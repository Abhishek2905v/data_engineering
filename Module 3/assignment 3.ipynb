{
 "cells": [
  {
   "cell_type": "code",
   "execution_count": 0,
   "metadata": {
    "application/vnd.databricks.v1+cell": {
     "cellMetadata": {
      "byteLimit": 2048000,
      "rowLimit": 10000
     },
     "inputWidgets": {},
     "nuid": "b2fb3e74-93c7-4e5c-b044-05389786350f",
     "showTitle": false,
     "tableResultSettingsMap": {},
     "title": ""
    }
   },
   "outputs": [],
   "source": [
    "import csv\n",
    "\n",
    "with open('requests:https://jsonplaceholder.typicode.com/users',mode='r') as file:\n",
    "    reader=csv.reader(file)\n",
    "    for row in  reader:\n",
    "        print(row)\n",
    "    "
   ]
  },
  {
   "cell_type": "code",
   "execution_count": 0,
   "metadata": {
    "application/vnd.databricks.v1+cell": {
     "cellMetadata": {
      "byteLimit": 2048000,
      "rowLimit": 10000
     },
     "inputWidgets": {},
     "nuid": "a0f35a08-54e0-4df6-89ba-baeb64293876",
     "showTitle": false,
     "tableResultSettingsMap": {},
     "title": ""
    }
   },
   "outputs": [],
   "source": [
    "import requests, csv\n",
    "\n",
    "response = requests.get('https://jsonplaceholder.typicode.com/users')\n",
    "\n",
    "if response.status_code == 200:\n",
    "    users = response.json()\n",
    "\n",
    "    with open('city_users.csv', 'w', newline='') as file:\n",
    "        writer = csv.writer(file)\n",
    "        writer.writerow(['Name', 'City'])\n",
    "\n",
    "        for user in users:\n",
    "            if user['address']['city'] == 'South Christy':\n",
    "                writer.writerow([user['name'], user['address']['city']])\n",
    "else:\n",
    "    print(\"Failed to fetch data\")"
   ]
  },
  {
   "cell_type": "code",
   "execution_count": 0,
   "metadata": {
    "application/vnd.databricks.v1+cell": {
     "cellMetadata": {
      "byteLimit": 2048000,
      "rowLimit": 10000
     },
     "inputWidgets": {},
     "nuid": "efeef0d6-b274-4344-a71c-c6378ab37880",
     "showTitle": false,
     "tableResultSettingsMap": {},
     "title": ""
    }
   },
   "outputs": [],
   "source": [
    "import requests\n",
    "import csv\n",
    "\n",
    "def fetch_and_save_users(api_url, output_csv):\n",
    "    try:\n",
    "        response = requests.get(api_url)\n",
    "\n",
    "        # Handle non-200 responses\n",
    "        if response.status_code != 200:\n",
    "            print(f\"[ERROR] API request failed with status code {response.status_code}\")\n",
    "            return\n",
    "\n",
    "        users = response.json()\n",
    "\n",
    "        # Transform: extract relevant fields\n",
    "        processed_users = []\n",
    "        for user in users:\n",
    "            user_data = {\n",
    "                'name': user['name'],\n",
    "                'username': user['username'],\n",
    "                'email': user['email'],\n",
    "                'city': user['address']['city'],\n",
    "                'company': user['company']['name']\n",
    "            }\n",
    "            processed_users.append(user_data)\n",
    "\n",
    "        # Load: write to CSV\n",
    "        with open(output_csv, mode='w', newline='', encoding='utf-8') as file:\n",
    "            fieldnames = ['name', 'username', 'email', 'city', 'company']\n",
    "            writer = csv.DictWriter(file, fieldnames=fieldnames)\n",
    "            writer.writeheader()\n",
    "            writer.writerows(processed_users)\n",
    "\n",
    "        print(f\"[SUCCESS] Data written to {output_csv}\")\n",
    "\n",
    "    except requests.RequestException as e:\n",
    "        print(f\"[ERROR] Request failed: {e}\")\n",
    "    except KeyError as e:\n",
    "        print(f\"[ERROR] Unexpected data structure: missing key {e}\")\n",
    "    except Exception as e:\n",
    "        print(f\"[ERROR] An error occurred: {e}\")\n",
    "\n",
    "# Run the ETL process\n",
    "api_url = \"https://jsonplaceholder.typicode.com/users\"\n",
    "output_csv = \"api_users.csv\"\n",
    "fetch_and_save_users(api_url, output_csv)\n"
   ]
  },
  {
   "cell_type": "code",
   "execution_count": 0,
   "metadata": {
    "application/vnd.databricks.v1+cell": {
     "cellMetadata": {
      "byteLimit": 2048000,
      "rowLimit": 10000
     },
     "inputWidgets": {},
     "nuid": "49782f79-fcf1-4c35-b978-8726f38a5a26",
     "showTitle": false,
     "tableResultSettingsMap": {},
     "title": ""
    }
   },
   "outputs": [],
   "source": [
    "import requests, csv\n",
    "\n",
    "response = requests.get('https://jsonplaceholder.typicode.com/users')\n",
    "print(response)"
   ]
  },
  {
   "cell_type": "code",
   "execution_count": 0,
   "metadata": {
    "application/vnd.databricks.v1+cell": {
     "cellMetadata": {
      "byteLimit": 2048000,
      "rowLimit": 10000
     },
     "inputWidgets": {},
     "nuid": "e9f78025-4fad-40ba-9a4b-0ea727d32aff",
     "showTitle": false,
     "tableResultSettingsMap": {},
     "title": ""
    }
   },
   "outputs": [],
   "source": [
    "import requests\n",
    "import csv\n",
    "\n",
    "def fetch_save_users(api_url,users_api):\n",
    "\n",
    "    response=requests.get(api_url)\n",
    "\n",
    "    if response.status_code != 200:\n",
    "            print(f\"[ERROR] API request failed with status code {response.status_code}\")\n",
    "            return\n",
    "    users=response.json()\n",
    "\n",
    "    processed_users=[]\n",
    "    for user in users:\n",
    "        user_data={\n",
    "            'name':user['name'],\n",
    "            'username':user['username'],\n",
    "            'email': user['email'],\n",
    "            'city': user['address']['city'],\n",
    "            'company': user['company']\n",
    "        }\n",
    "\n",
    "\n",
    "        processed_users.append(user_data)\n",
    "\n",
    "    with open(output_csv, mode='w', newline='', encoding='utf-8') as file:\n",
    "        fieldnames = ['name', 'username', 'email', 'city', 'company']\n",
    "        writer = csv.DictWriter(file, fieldnames=fieldnames)\n",
    "        writer.writeheader()\n",
    "        writer.writerows(processed_users)   \n",
    "   \n",
    "    \n",
    "\n",
    "\n",
    "\n",
    "\n",
    "     \n",
    "users_api = \"https://jsonplaceholder.typicode.com/users\"\n",
    "output_csv = \"api_users.csv\"\n",
    "fetch_save_users(api_url, users_api)\n",
    "        "
   ]
  }
 ],
 "metadata": {
  "application/vnd.databricks.v1+notebook": {
   "computePreferences": null,
   "dashboards": [],
   "environmentMetadata": {
    "base_environment": "",
    "environment_version": "2"
   },
   "inputWidgetPreferences": null,
   "language": "python",
   "notebookMetadata": {
    "pythonIndentUnit": 4
   },
   "notebookName": "assignment 3",
   "widgets": {}
  },
  "language_info": {
   "name": "python"
  }
 },
 "nbformat": 4,
 "nbformat_minor": 0
}
