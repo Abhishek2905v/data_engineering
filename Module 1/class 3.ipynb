{
 "cells": [
  {
   "cell_type": "code",
   "execution_count": 0,
   "metadata": {
    "application/vnd.databricks.v1+cell": {
     "cellMetadata": {
      "byteLimit": 2048000,
      "implicitDf": true,
      "rowLimit": 10000
     },
     "inputWidgets": {},
     "nuid": "870cf20e-e5fc-4a79-bcdc-cc51adb63888",
     "showTitle": false,
     "tableResultSettingsMap": {},
     "title": ""
    }
   },
   "outputs": [],
   "source": [
    "%sql\n",
    "CREATE TABLE customers ( customer_id INT , first_name VARCHAR(50), last_name VARCHAR(50), city VARCHAR(50), email VARCHAR(100) );\n",
    "\n",
    "CREATE TABLE orders ( order_id INT , customer_id INT, order_date DATE, total_amount DECIMAL(10, 2) );\n",
    "\n",
    "CREATE TABLE order_details ( order_detail_id INT , order_id INT, customer_id INT, product_id INT, product_name VARCHAR(100), category VARCHAR(50), quantity INT, price_each DECIMAL(10,2), order_date DATE );\n"
   ]
  },
  {
   "cell_type": "code",
   "execution_count": 0,
   "metadata": {
    "application/vnd.databricks.v1+cell": {
     "cellMetadata": {
      "byteLimit": 2048000,
      "implicitDf": true,
      "rowLimit": 10000
     },
     "inputWidgets": {},
     "nuid": "496f5375-c9fe-4808-928a-88cdbca2b209",
     "showTitle": false,
     "tableResultSettingsMap": {},
     "title": ""
    }
   },
   "outputs": [],
   "source": [
    "%sql\n",
    "INSERT INTO customers VALUES (1, 'John', 'Doe', 'Delhi', 'john.doe@example.com'), (2, 'Jane', 'Smith', 'Mumbai', 'jane.smith@example.com'), (3, 'Raj', 'Kumar', 'Bangalore', 'raj.kumar@example.com'), (4, 'Priya', 'Sharma', 'Hyderabad', 'priya.sharma@example.com'), (5, 'Tom', 'Brown', 'Pune', 'tom.brown@example.com'), (6, 'Sara', 'Ali', 'Chennai', 'sara.ali@example.com'), (7, 'Vikram', 'Singh', 'Delhi', 'vikram.singh@example.com'), (8, 'Neha', 'Patel', 'Mumbai', 'neha.patel@example.com'), (9, 'David', 'Lee', 'Kolkata', 'david.lee@example.com'), (10, 'Amit', 'Verma', 'Jaipur', 'amit.verma@example.com'), (11, 'Emily', 'Clark', 'Delhi', 'emily.clark@example.com'), (12, 'Ananya', 'Roy', 'Mumbai', 'ananya.roy@example.com'), (13, 'Sam', 'Wilson', 'Pune', 'sam.wilson@example.com'), (14, 'Pooja', 'Das', 'Hyderabad', 'pooja.das@example.com'), (15, 'Arjun', 'Nair', 'Chennai', 'arjun.nair@example.com'), (16, 'Kavita', 'Gupta', 'Bangalore', 'kavita.gupta@example.com'), (17, 'Robert', 'King', 'Delhi', 'robert.king@example.com'), (18, 'Meera', 'Joshi', 'Mumbai', 'meera.joshi@example.com'), (19, 'Michael', 'Scott', 'Kolkata', 'michael.scott@example.com'), (20, 'Ravi', 'Menon', 'Pune', 'ravi.menon@example.com'), (21, 'Tina', 'Fernandez', 'Delhi', 'tina.fernandez@example.com'), (22, 'Arvind', 'Singh', 'Hyderabad', 'arvind.singh@example.com'), (23, 'Lucy', 'Adams', 'Chennai', 'lucy.adams@example.com'), (24, 'Karan', 'Malhotra', 'Mumbai', 'karan.malhotra@example.com'), (25, 'Sneha', 'Reddy', 'Pune', 'sneha.reddy@example.com'), (26, 'George', 'Mason', 'Bangalore', 'george.mason@example.com'), (27, 'Vishal', 'Kapoor', 'Kolkata', 'vishal.kapoor@example.com'), (28, 'Emma', 'Watson', 'Delhi', 'emma.watson@example.com'), (29, 'Siddharth', 'Jain', 'Hyderabad', 'siddharth.jain@example.com'), (30, 'Olivia', 'Brown', 'Chennai', 'olivia.brown@example.com'), (31, 'Nikhil', 'Arora', 'Mumbai', 'nikhil.arora@example.com'), (32, 'Ayesha', 'Khan', 'Delhi', 'ayesha.khan@example.com'), (33, 'Chris', 'Evans', 'Bangalore', 'chris.evans@example.com'), (34, 'Ishita', 'Bhatt', 'Kolkata', 'ishita.bhatt@example.com'), (35, 'Shyam', 'Patil', 'Pune', 'shyam.patil@example.com'), (36, 'Sophia', 'Green', 'Chennai', 'sophia.green@example.com'), (37, 'Harsh', 'Aggarwal', 'Hyderabad', 'harsh.aggarwal@example.com'), (38, 'Liam', 'Martin', 'Delhi', 'liam.martin@example.com'), (39, 'Diya', 'Saxena', 'Mumbai', 'diya.saxena@example.com'), (40, 'Jason', 'Taylor', 'Kolkata', 'jason.taylor@example.com'), (41, 'Ritika', 'Mehra', 'Pune', 'ritika.mehra@example.com'), (42, 'Steve', 'Jobs', 'Bangalore', 'steve.jobs@example.com'), (43, 'Alisha', 'Paul', 'Hyderabad', 'alisha.paul@example.com'), (44, 'Dhruv', 'Singhania', 'Chennai', 'dhruv.singhania@example.com'), (45, 'Rebecca', 'Lewis', 'Delhi', 'rebecca.lewis@example.com'), (46, 'Naveen', 'Shetty', 'Mumbai', 'naveen.shetty@example.com'), (47, 'Julia', 'Roberts', 'Pune', 'julia.roberts@example.com'), (48, 'Parth', 'Desai', 'Hyderabad', 'parth.desai@example.com'), (49, 'Nina', 'Shah', 'Chennai', 'nina.shah@example.com'), (50, 'Aria', 'Gill', 'Bangalore', 'aria.gill@example.com');\n",
    "\n",
    "INSERT INTO orders VALUES (1001, 1, '2023-01-10', 1500.00), (1002, 2, '2023-01-11', 2500.00), (1003, 3, '2023-01-15', 500.00), (1004, 1, '2023-02-01', 750.00), (1005, 4, '2023-02-05', 2000.00), (1006, 5, '2023-02-08', 1800.00), (1007, 6, '2023-03-01', 2200.00), (1008, 7, '2023-03-05', 3000.00), (1009, 8, '2023-03-09', 1200.00), (1010, 9, '2023-03-10', 900.00), (1011, 10, '2023-03-12', 1900.00), (1012, 11, '2023-03-15', 1500.00), (1013, 12, '2023-03-18', 2400.00), (1014, 13, '2023-03-20', 600.00), (1015, 14, '2023-03-22', 3000.00), (1016, 15, '2023-03-25', 2800.00), (1017, 16, '2023-03-28', 3200.00), (1018, 17, '2023-03-30', 500.00), (1019, 18, '2023-04-01', 950.00), (1020, 19, '2023-04-03', 1750.00), (1021, 20, '2023-04-05', 2100.00), (1022, 21, '2023-04-08', 1200.00), (1023, 22, '2023-04-10', 1400.00), (1024, 23, '2023-04-12', 800.00), (1025, 24, '2023-04-14', 3300.00), (1026, 25, '2023-04-16', 2400.00), (1027, 26, '2023-04-18', 1800.00), (1028, 27, '2023-04-20', 2000.00), (1029, 28, '2023-04-22', 2200.00), (1030, 29, '2023-04-24', 1950.00), (1031, 30, '2023-04-26', 2600.00), (1032, 31, '2023-04-28', 1550.00), (1033, 32, '2023-05-01', 2700.00), (1034, 33, '2023-05-03', 1000.00), (1035, 34, '2023-05-05', 1900.00), (1036, 35, '2023-05-07', 2100.00), (1037, 36, '2023-05-09', 1100.00), (1038, 37, '2023-05-11', 1250.00), (1039, 38, '2023-05-13', 1850.00), (1040, 39, '2023-05-15', 1400.00), (1041, 40, '2023-05-17', 1750.00), (1042, 41, '2023-05-19', 900.00), (1043, 42, '2023-05-21', 2500.00), (1044, 43, '2023-05-23', 3000.00), (1045, 44, '2023-05-25', 2100.00), (1046, 45, '2023-05-27', 2600.00), (1047, 46, '2023-05-29', 2700.00), (1048, 47, '2023-05-31', 2800.00), (1049, 48, '2023-06-02', 1500.00), (1050, 49, '2023-06-04', 1200.00), (1051, 50, '2023-06-06', 800.00), (1052, 1, '2023-06-08', 2000.00), (1053, 2, '2023-06-10', 2300.00), (1054, 3, '2023-06-12', 1400.00), (1055, 4, '2023-06-14', 1750.00), (1056, 5, '2023-06-16', 2600.00), (1057, 6, '2023-06-18', 2100.00), (1058, 7, '2023-06-20', 900.00), (1059, 8, '2023-06-22', 3000.00), (1060, 9, '2023-06-24', 1200.00), (1061, 10, '2023-06-26', 1850.00), (1062, 11, '2023-06-28', 1750.00), (1063, 12, '2023-06-30', 1600.00), (1064, 13, '2023-07-02', 950.00), (1065, 14, '2023-07-04', 2100.00), (1066, 15, '2023-07-06', 2500.00), (1067, 16, '2023-07-08', 3000.00), (1068, 17, '2023-07-10', 2700.00), (1069, 18, '2023-07-12', 1500.00), (1070, 19, '2023-07-14', 1400.00);\n",
    "\n",
    "INSERT INTO order_details VALUES (1, 1001, 1, 201, 'Laptop', 'Electronics', 1, 50000.00, '2023-01-10'), (2, 1001, 1, 203, 'Headphones', 'Accessories', 2, 2000.00, '2023-01-10'), (3, 1002, 2, 202, 'Smartphone', 'Electronics', 1, 30000.00, '2023-01-11'), (4, 1003, 3, 205, 'Water Bottle', 'Kitchen', 3, 500.00, '2023-01-15'), (5, 1004, 1, 208, 'Bluetooth Speaker', 'Electronics', 1, 3500.00, '2023-02-01'), (6, 1005, 4, 204, 'Desk Chair', 'Furniture', 1, 4000.00, '2023-02-05'), (7, 1006, 5, 207, 'Office Desk', 'Furniture', 1, 7000.00, '2023-02-08'), (8, 1007, 6, 211, 'Tablet', 'Electronics', 2, 25000.00, '2023-03-01'), (9, 1008, 7, 215, 'Gaming Chair', 'Furniture', 1, 15000.00, '2023-03-05'), (10, 1009, 8, 209, 'Notebook', 'Stationery', 5, 200.00, '2023-03-09');\n"
   ]
  }
 ],
 "metadata": {
  "application/vnd.databricks.v1+notebook": {
   "computePreferences": null,
   "dashboards": [],
   "environmentMetadata": {
    "base_environment": "",
    "environment_version": "2"
   },
   "inputWidgetPreferences": null,
   "language": "python",
   "notebookMetadata": {
    "mostRecentlyExecutedCommandWithImplicitDF": {
     "commandId": 7436850597049753,
     "dataframes": [
      "_sqldf"
     ]
    },
    "pythonIndentUnit": 4
   },
   "notebookName": "class 3",
   "widgets": {}
  },
  "language_info": {
   "name": "python"
  }
 },
 "nbformat": 4,
 "nbformat_minor": 0
}
