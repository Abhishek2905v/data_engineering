{
 "cells": [
  {
   "cell_type": "code",
   "execution_count": 0,
   "metadata": {
    "application/vnd.databricks.v1+cell": {
     "cellMetadata": {
      "byteLimit": 2048000,
      "rowLimit": 10000
     },
     "inputWidgets": {},
     "nuid": "6b1e73b3-8f03-4b6b-b208-900030c09c6c",
     "showTitle": false,
     "tableResultSettingsMap": {},
     "title": ""
    }
   },
   "outputs": [],
   "source": [
    "from pyspark.sql import SparkSession\n",
    "spark = SparkSession.builder.appName(\"DataX\").getOrCreate()\n",
    "\n"
   ]
  },
  {
   "cell_type": "code",
   "execution_count": 0,
   "metadata": {
    "application/vnd.databricks.v1+cell": {
     "cellMetadata": {
      "byteLimit": 2048000,
      "rowLimit": 10000
     },
     "inputWidgets": {},
     "nuid": "cfac5092-1c16-4830-85f4-7f83f9b10eb1",
     "showTitle": false,
     "tableResultSettingsMap": {},
     "title": ""
    }
   },
   "outputs": [],
   "source": [
    "# create realistic dataframe of employees\n",
    "\n",
    "data = {(\"Abishek\", \"Mech\", 50000),\n",
    "        (\"John\", \"IT\", 60000),\n",
    "        (\"Sara\", \"HR\", 55000),\n",
    "        (\"Mike\", \"Finance\", 70000),\n",
    "        (\"Linda\", \"Marketing\", 65000)\n",
    "}\n",
    "\n",
    "columns = [\"Name\", \"Department\", \"Salary\"]\n",
    "\n",
    "df = spark.createDataFrame(data, columns)\n",
    "display(df)"
   ]
  },
  {
   "cell_type": "code",
   "execution_count": 0,
   "metadata": {
    "application/vnd.databricks.v1+cell": {
     "cellMetadata": {
      "byteLimit": 2048000,
      "rowLimit": 10000
     },
     "inputWidgets": {},
     "nuid": "bb0ea753-4b03-42fc-83e8-c3370673ebb4",
     "showTitle": false,
     "tableResultSettingsMap": {},
     "title": ""
    }
   },
   "outputs": [],
   "source": [
    "# i want to select and filter on data frame\n",
    "\n",
    "display(df.select(\"Name\"))\n",
    "\n"
   ]
  },
  {
   "cell_type": "code",
   "execution_count": 0,
   "metadata": {
    "application/vnd.databricks.v1+cell": {
     "cellMetadata": {
      "byteLimit": 2048000,
      "rowLimit": 10000
     },
     "inputWidgets": {},
     "nuid": "b0692c6a-5532-43f9-bebf-8c651a0603e2",
     "showTitle": false,
     "tableResultSettingsMap": {},
     "title": ""
    }
   },
   "outputs": [],
   "source": [
    "#i wanrt to select 2 columns\n",
    "\n",
    "display(df.select(\"Name\",\"Salary\"))"
   ]
  },
  {
   "cell_type": "code",
   "execution_count": 0,
   "metadata": {
    "application/vnd.databricks.v1+cell": {
     "cellMetadata": {
      "byteLimit": 2048000,
      "rowLimit": 10000
     },
     "inputWidgets": {},
     "nuid": "bb0be72d-3e59-476b-abb2-1778b91fac71",
     "showTitle": false,
     "tableResultSettingsMap": {},
     "title": ""
    }
   },
   "outputs": [],
   "source": [
    "# select rows based on salary\n",
    "\n",
    "display(df.filter(df.Salary>60000))"
   ]
  },
  {
   "cell_type": "code",
   "execution_count": 0,
   "metadata": {
    "application/vnd.databricks.v1+cell": {
     "cellMetadata": {
      "byteLimit": 2048000,
      "rowLimit": 10000
     },
     "inputWidgets": {},
     "nuid": "1d20154e-e78a-4d52-bbc8-74d635777e52",
     "showTitle": false,
     "tableResultSettingsMap": {},
     "title": ""
    }
   },
   "outputs": [],
   "source": [
    "display(df.filter(df['salary']>60000))"
   ]
  },
  {
   "cell_type": "code",
   "execution_count": 0,
   "metadata": {
    "application/vnd.databricks.v1+cell": {
     "cellMetadata": {
      "byteLimit": 2048000,
      "rowLimit": 10000
     },
     "inputWidgets": {},
     "nuid": "0faa0d48-b5b7-4ee1-b295-1943f094d2ce",
     "showTitle": false,
     "tableResultSettingsMap": {},
     "title": ""
    }
   },
   "outputs": [],
   "source": [
    "# iwant to apply multiple filters\n",
    "\n",
    "display(df.filter((df['Department']==\"Finance\")  & (df['Salary']>50000)))"
   ]
  },
  {
   "cell_type": "code",
   "execution_count": 0,
   "metadata": {
    "application/vnd.databricks.v1+cell": {
     "cellMetadata": {
      "byteLimit": 2048000,
      "rowLimit": 10000
     },
     "inputWidgets": {},
     "nuid": "20fab527-d5cf-4dcd-bb3c-c0054613d83c",
     "showTitle": false,
     "tableResultSettingsMap": {},
     "title": ""
    }
   },
   "outputs": [],
   "source": [
    "#create a derived column\n",
    "\n",
    "from pyspark.sql.functions import col\n",
    "\n",
    "# want to add 10% bonus \n",
    "\n",
    "df=df.withColumn(\"Bonus\",col(\"Salary\")*0.1)\n",
    "display(df)\n",
    "\n"
   ]
  },
  {
   "cell_type": "code",
   "execution_count": 0,
   "metadata": {
    "application/vnd.databricks.v1+cell": {
     "cellMetadata": {
      "byteLimit": 2048000,
      "rowLimit": 10000
     },
     "inputWidgets": {},
     "nuid": "7b5c50aa-e7dc-4877-8480-1444971c2bfb",
     "showTitle": false,
     "tableResultSettingsMap": {},
     "title": ""
    }
   },
   "outputs": [],
   "source": [
    "#group by and aggregation\n",
    "\n",
    "df.groupBy(\"Department\").avg(\"Salary\").show()"
   ]
  },
  {
   "cell_type": "code",
   "execution_count": 0,
   "metadata": {
    "application/vnd.databricks.v1+cell": {
     "cellMetadata": {
      "byteLimit": 2048000,
      "rowLimit": 10000
     },
     "inputWidgets": {},
     "nuid": "79b95caa-920c-46c0-a799-1b2e55b17602",
     "showTitle": false,
     "tableResultSettingsMap": {},
     "title": ""
    }
   },
   "outputs": [],
   "source": [
    "# i want to apply multiple aggregation\n",
    "\n",
    "df.groupBy(\"Department\").agg({\"Salary\":\"avg\",\"Bonus\":\"sum\"}).show()"
   ]
  },
  {
   "cell_type": "code",
   "execution_count": 0,
   "metadata": {
    "application/vnd.databricks.v1+cell": {
     "cellMetadata": {
      "byteLimit": 2048000,
      "rowLimit": 10000
     },
     "inputWidgets": {},
     "nuid": "992350b5-22b4-4a53-84f0-524b3a6796dd",
     "showTitle": false,
     "tableResultSettingsMap": {},
     "title": ""
    }
   },
   "outputs": [],
   "source": [
    "# i want to join 2 df\n",
    "\n",
    "dept_data =[\n",
    "    (\"HR\", \"D001\"),\n",
    "    (\"Finance\", \"D002\"),\n",
    "    (\"IT\", \"D003\"),\n",
    "    (\"Marketing\", \"D004\")\n",
    "]\n",
    "\n",
    "dept_Column = [\"Department\",\"Dept_code\"]\n",
    "\n",
    "df_dept=spark.createDataFrame(dept_data,dept_Column)\n",
    "                                  \n",
    "\n",
    "\n",
    "display(df_dept)"
   ]
  },
  {
   "cell_type": "code",
   "execution_count": 0,
   "metadata": {
    "application/vnd.databricks.v1+cell": {
     "cellMetadata": {
      "byteLimit": 2048000,
      "rowLimit": 10000
     },
     "inputWidgets": {},
     "nuid": "3bce7802-e3cf-4025-a71b-67a60376adfb",
     "showTitle": false,
     "tableResultSettingsMap": {},
     "title": ""
    }
   },
   "outputs": [],
   "source": [
    "# i want to join 2 df\n",
    "\n",
    "joined_df=df.join(df_dept,on=\"Department\",how=\"inner\")\n",
    "\n",
    "display(joined_df)"
   ]
  },
  {
   "cell_type": "code",
   "execution_count": 0,
   "metadata": {
    "application/vnd.databricks.v1+cell": {
     "cellMetadata": {
      "byteLimit": 2048000,
      "rowLimit": 10000
     },
     "inputWidgets": {},
     "nuid": "0191d66a-5590-4210-b600-ce8ab66416c6",
     "showTitle": false,
     "tableResultSettingsMap": {},
     "title": ""
    }
   },
   "outputs": [],
   "source": [
    "# transformation vs action\n",
    "\n",
    "#transformation\n",
    "filtered=df.filter(df[\"Salary\"]>40000)\n",
    "\n",
    "#action\n",
    "display(filtered)"
   ]
  },
  {
   "cell_type": "markdown",
   "metadata": {
    "application/vnd.databricks.v1+cell": {
     "cellMetadata": {},
     "inputWidgets": {},
     "nuid": "fa8f5478-e94d-49b8-bae8-c3dbf7828d1d",
     "showTitle": false,
     "tableResultSettingsMap": {},
     "title": ""
    }
   },
   "source": [
    "# Student practice assignemnt"
   ]
  },
  {
   "cell_type": "code",
   "execution_count": 0,
   "metadata": {
    "application/vnd.databricks.v1+cell": {
     "cellMetadata": {
      "byteLimit": 2048000,
      "rowLimit": 10000
     },
     "inputWidgets": {},
     "nuid": "9fc00b0f-993d-4388-bfed-84977953654a",
     "showTitle": false,
     "tableResultSettingsMap": {},
     "title": ""
    }
   },
   "outputs": [],
   "source": [
    "data = [\n",
    "    (\"Alice\", \"HR\", 50000, \"New York\"),\n",
    "    (\"Bob\", \"IT\", 60000, \"San Francisco\"),\n",
    "    (\"Charlie\", \"HR\", 52000, \"New York\"),\n",
    "    (\"David\", \"Finance\", 58000, \"Chicago\"),\n",
    "    (\"Eve\", \"IT\", 61000, \"San Francisco\"),\n",
    "    (\"Frank\", \"Marketing\", 47000, \"Boston\"),\n",
    "    (\"Grace\", \"Finance\", 59000, \"Chicago\"),\n",
    "    (\"Heidi\", \"HR\", 53000, \"New York\"),\n",
    "    (\"Ivan\", \"Marketing\", 48000, \"Boston\"),\n",
    "    (\"Judy\", \"IT\", 62000, \"San Francisco\")\n",
    "]\n",
    "columns = [\"Name\", \"Department\", \"Salary\", \"Location\"]\n",
    "display(df)\n",
    "\n",
    "df=spark.createDataFrame(data,columns)"
   ]
  },
  {
   "cell_type": "code",
   "execution_count": 0,
   "metadata": {
    "application/vnd.databricks.v1+cell": {
     "cellMetadata": {
      "byteLimit": 2048000,
      "rowLimit": 10000
     },
     "inputWidgets": {},
     "nuid": "ccfe70d0-ccd8-400b-a417-4a3e68b2ecf4",
     "showTitle": false,
     "tableResultSettingsMap": {},
     "title": ""
    }
   },
   "outputs": [],
   "source": [
    "df_task1=df.filter((col(\"Department\")==\"IT\") & (col(\"Salary\")>50000))\n",
    "display(df_task1)"
   ]
  },
  {
   "cell_type": "code",
   "execution_count": 0,
   "metadata": {
    "application/vnd.databricks.v1+cell": {
     "cellMetadata": {
      "byteLimit": 2048000,
      "rowLimit": 10000
     },
     "inputWidgets": {},
     "nuid": "144d8881-16e1-448f-874a-25bce93eec70",
     "showTitle": false,
     "tableResultSettingsMap": {},
     "title": ""
    }
   },
   "outputs": [],
   "source": [
    "df_task2=df.withColumn(\"hike\",col(\"Salary\")*0.15)\n",
    "display(df_task2)"
   ]
  },
  {
   "cell_type": "code",
   "execution_count": 0,
   "metadata": {
    "application/vnd.databricks.v1+cell": {
     "cellMetadata": {
      "byteLimit": 2048000,
      "rowLimit": 10000
     },
     "inputWidgets": {},
     "nuid": "a21e743f-724c-46ca-b870-48c6799f85bd",
     "showTitle": false,
     "tableResultSettingsMap": {},
     "title": ""
    }
   },
   "outputs": [],
   "source": [
    "df_task3=df.groupBy(\"Department\").avg(\"Salary\")\n",
    "display(df_task3)"
   ]
  },
  {
   "cell_type": "code",
   "execution_count": 0,
   "metadata": {
    "application/vnd.databricks.v1+cell": {
     "cellMetadata": {},
     "inputWidgets": {},
     "nuid": "57d19c9d-fe75-40c1-9cf1-7e1006277d28",
     "showTitle": false,
     "tableResultSettingsMap": {},
     "title": ""
    }
   },
   "outputs": [],
   "source": []
  }
 ],
 "metadata": {
  "application/vnd.databricks.v1+notebook": {
   "computePreferences": null,
   "dashboards": [],
   "environmentMetadata": {
    "base_environment": "",
    "environment_version": "2"
   },
   "inputWidgetPreferences": null,
   "language": "python",
   "notebookMetadata": {
    "pythonIndentUnit": 4
   },
   "notebookName": "class 4",
   "widgets": {}
  },
  "language_info": {
   "name": "python"
  }
 },
 "nbformat": 4,
 "nbformat_minor": 0
}
