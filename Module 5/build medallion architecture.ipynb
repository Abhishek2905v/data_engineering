{
 "cells": [
  {
   "cell_type": "code",
   "execution_count": 0,
   "metadata": {
    "application/vnd.databricks.v1+cell": {
     "cellMetadata": {
      "byteLimit": 2048000,
      "rowLimit": 10000
     },
     "inputWidgets": {},
     "nuid": "47fd9062-b1ac-45a4-baeb-dfacc312d724",
     "showTitle": false,
     "tableResultSettingsMap": {},
     "title": ""
    }
   },
   "outputs": [],
   "source": [
    "# read raw csv\n",
    "\n",
    "df_raw= spark.read.option(\"header\",True).csv(\"/databricks-datasets/retail-org/customers/\")\n",
    "\n",
    "#save as delta table(bronze layer)\n",
    "\n",
    "df_raw.write.format(\"delta\").option(\"mergeSchema\",\"true\").mode(\"overwrite\").saveAsTable(\"bronze_customers\")"
   ]
  },
  {
   "cell_type": "code",
   "execution_count": 0,
   "metadata": {
    "application/vnd.databricks.v1+cell": {
     "cellMetadata": {
      "byteLimit": 2048000,
      "rowLimit": 10000
     },
     "inputWidgets": {},
     "nuid": "cbb153d2-e420-4d8e-bef2-0ef181130fd1",
     "showTitle": false,
     "tableResultSettingsMap": {
      "0": {
       "dataGridStateBlob": "{\"version\":1,\"tableState\":{\"columnPinning\":{\"left\":[\"#row_number#\"],\"right\":[]},\"columnSizing\":{},\"columnVisibility\":{}},\"settings\":{\"columns\":{}},\"syncTimestamp\":1752053642503}",
       "filterBlob": null,
       "queryPlanFiltersBlob": null,
       "tableResultIndex": 0
      }
     },
     "title": ""
    }
   },
   "outputs": [],
   "source": [
    "from pyspark.sql.functions import col,lower,trim\n",
    "\n",
    "#read from bronze table\n",
    "\n",
    "df_bronze= spark.read.table(\"bronze_customers\")\n",
    "\n",
    "#clean\n",
    "\n",
    "df_silver=df_bronze.withColumn(\"customer_name\", lower(trim(col(\"customer_name\")))).dropna(subset=[\"customer_id\",\"customer_name\"])\n",
    "\n",
    "# save as silver table\n",
    "df_silver.write.format(\"delta\").option(\"mergeSchema\",'true').mode(\"overwrite\").saveAsTable(\"silver_customers\")\n",
    "\n",
    "display(df_silver)"
   ]
  },
  {
   "cell_type": "code",
   "execution_count": 0,
   "metadata": {
    "application/vnd.databricks.v1+cell": {
     "cellMetadata": {
      "byteLimit": 2048000,
      "rowLimit": 10000
     },
     "inputWidgets": {},
     "nuid": "618e545b-7d45-40d8-af4c-60f23a8ad2fd",
     "showTitle": false,
     "tableResultSettingsMap": {},
     "title": ""
    }
   },
   "outputs": [],
   "source": [
    "# read from silver table\n",
    "\n",
    "df_silver=spark.read.table('silver_customers')\n",
    "\n",
    "#aggregate\n",
    "\n",
    "df_gold=df_silver.groupBy(\"state\").count()\n",
    "\n",
    "#save as gold table\n",
    "\n",
    "df_gold.write.format(\"delta\").option(\"mergeSchema\",'true').mode(\"overwrite\").saveAsTable(\"customer_summary\")"
   ]
  },
  {
   "cell_type": "code",
   "execution_count": 0,
   "metadata": {
    "application/vnd.databricks.v1+cell": {
     "cellMetadata": {
      "byteLimit": 2048000,
      "implicitDf": true,
      "rowLimit": 10000
     },
     "inputWidgets": {},
     "nuid": "38141f4f-18ce-4256-a41d-709e9adec0c5",
     "showTitle": false,
     "tableResultSettingsMap": {},
     "title": ""
    }
   },
   "outputs": [],
   "source": [
    "%sql\n",
    "select * from customer_summary"
   ]
  },
  {
   "cell_type": "code",
   "execution_count": 0,
   "metadata": {
    "application/vnd.databricks.v1+cell": {
     "cellMetadata": {
      "byteLimit": 2048000,
      "implicitDf": true,
      "rowLimit": 10000
     },
     "inputWidgets": {},
     "nuid": "f25b31ac-d26c-49df-bafe-d189870be47f",
     "showTitle": false,
     "tableResultSettingsMap": {},
     "title": ""
    }
   },
   "outputs": [],
   "source": [
    "%sql\n",
    "describe history customer_summary"
   ]
  },
  {
   "cell_type": "code",
   "execution_count": 0,
   "metadata": {
    "application/vnd.databricks.v1+cell": {
     "cellMetadata": {},
     "inputWidgets": {},
     "nuid": "24a3d450-cdc1-4d67-ac74-4438affa3d32",
     "showTitle": false,
     "tableResultSettingsMap": {},
     "title": ""
    }
   },
   "outputs": [],
   "source": []
  }
 ],
 "metadata": {
  "application/vnd.databricks.v1+notebook": {
   "computePreferences": null,
   "dashboards": [],
   "environmentMetadata": {
    "base_environment": "",
    "environment_version": "2"
   },
   "inputWidgetPreferences": null,
   "language": "python",
   "notebookMetadata": {
    "mostRecentlyExecutedCommandWithImplicitDF": {
     "commandId": 5167923563700622,
     "dataframes": [
      "_sqldf"
     ]
    },
    "pythonIndentUnit": 4
   },
   "notebookName": "build medallion architecture",
   "widgets": {}
  },
  "language_info": {
   "name": "python"
  }
 },
 "nbformat": 4,
 "nbformat_minor": 0
}
